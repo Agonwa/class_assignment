{
 "cells": [
  {
   "cell_type": "markdown",
   "id": "1a18252b",
   "metadata": {},
   "source": [
    "# Assignmnet solutions \n"
   ]
  },
  {
   "cell_type": "markdown",
   "id": "3cce7972",
   "metadata": {},
   "source": [
    "## Question 1\n",
    "### **Task:** Create a function `simple_calculator` that takes two numbers and an operator (add, subtract, multiply, divide) and returns the result of the operation.\n",
    "### **Hint:** Use conditional statements to check the operator and perform the corresponding arithmetic operation."
   ]
  },
  {
   "cell_type": "code",
   "execution_count": 1,
   "id": "6ab22b12",
   "metadata": {},
   "outputs": [
    {
     "name": "stdout",
     "output_type": "stream",
     "text": [
      "6\n"
     ]
    }
   ],
   "source": [
    "def simple_calculator(a, b, operator):\n",
    "    if operator == \"add\":\n",
    "        return a + b\n",
    "    elif operator == \"subtract\":\n",
    "        return a - b\n",
    "    elif operator == \"divide\":\n",
    "        return a / b\n",
    "    elif operator == \"multiply\":\n",
    "        return a * b \n",
    "    else:\n",
    "        return \"Invalid input\"\n",
    "    \n",
    "    \n",
    "print(simple_calculator(4, 2, 'add'))  # Output: 6"
   ]
  },
  {
   "cell_type": "markdown",
   "id": "8693ac62",
   "metadata": {},
   "source": [
    "## Question 2\n",
    "\n",
    "## **Task:** Write a function `convert_temperature` that converts a temperature from Celsius to Fahrenheit and vice versa. The function should take the temperature and the unit to convert to.\n",
    "## **Hint:** Use the formulas `F = C * 9/5 + 32` for Celsius to Fahrenheit and `C = (F - 32) * 5/9` for Fahrenheit to Celsius."
   ]
  },
  {
   "cell_type": "code",
   "execution_count": 2,
   "id": "b2348e52",
   "metadata": {},
   "outputs": [
    {
     "name": "stdout",
     "output_type": "stream",
     "text": [
      "212.0\n"
     ]
    }
   ],
   "source": [
    "def convert_temperature(temp, unit):\n",
    "    if unit.lower() not in [\"f\", \"c\"]:\n",
    "        return \"Unit must be either 'F' or 'C'\"\n",
    "    if not isinstance(temp, int):\n",
    "        return \"Temp must be an integer\"\n",
    "    if unit.lower() == \"f\":\n",
    "        return temp * 9 / 5 + 32\n",
    "    else:\n",
    "        return (temp - 32) * 5/9\n",
    "\n",
    "\n",
    "print(convert_temperature(100, \"F\"))  # Output: 212.0)\n"
   ]
  },
  {
   "cell_type": "markdown",
   "id": "5e6afbbc",
   "metadata": {},
   "source": [
    "## Question 3\n",
    "## **Task:** Create a function `is_palindrome` that checks if a given string is a palindrome (reads the same backward as forward).\n"
   ]
  },
  {
   "cell_type": "code",
   "execution_count": 4,
   "id": "eec7d9e8",
   "metadata": {},
   "outputs": [
    {
     "data": {
      "text/plain": [
       "True"
      ]
     },
     "execution_count": 4,
     "metadata": {},
     "output_type": "execute_result"
    }
   ],
   "source": [
    "def is_palindrome(string):\n",
    "    return string == string[::-1]\n",
    "\n",
    "is_palindrome('racecar')"
   ]
  },
  {
   "cell_type": "markdown",
   "id": "ce881009",
   "metadata": {},
   "source": [
    "## Question 4\n",
    "## **Task:** Implement a class `BankAccount` with methods to deposit, withdraw, and check the balance."
   ]
  },
  {
   "cell_type": "code",
   "execution_count": 5,
   "id": "fd7cc2c1",
   "metadata": {},
   "outputs": [
    {
     "name": "stdout",
     "output_type": "stream",
     "text": [
      "50\n"
     ]
    }
   ],
   "source": [
    "class BankAccount:\n",
    "    def __init__(self, balance=0):\n",
    "        self.balance = balance\n",
    "\n",
    "    def deposit(self, amount):\n",
    "        self.balance += amount\n",
    "        return self.balance\n",
    "\n",
    "    def withdraw(self, amount):\n",
    "        if amount > self.balance:\n",
    "            return \"Insufficient Fund\"\n",
    "        else:\n",
    "            self.balance -= amount\n",
    "            return self.balance\n",
    "\n",
    "    def get_balance(self):\n",
    "        return self.balance\n",
    "\n",
    "\n",
    "# Test the class\n",
    "account = BankAccount()\n",
    "account.deposit(100)\n",
    "account.withdraw(50)\n",
    "print(account.get_balance())  # Output: 50\n"
   ]
  },
  {
   "cell_type": "markdown",
   "id": "685c7c78",
   "metadata": {},
   "source": [
    "## Question 5\n",
    "## **Task:** Write a class `GroceryList` with methods to add an item, remove an item, and display the list.\n",
    "## **Hint:** Use a list to store grocery items and methods to modify and display the list."
   ]
  },
  {
   "cell_type": "code",
   "execution_count": 6,
   "id": "0d3f9224",
   "metadata": {},
   "outputs": [
    {
     "data": {
      "text/plain": [
       "[]"
      ]
     },
     "execution_count": 6,
     "metadata": {},
     "output_type": "execute_result"
    }
   ],
   "source": [
    "class GroceryList:\n",
    "    def __init__(self):\n",
    "        self.item = []\n",
    "\n",
    "    def add_item(self, fruit):\n",
    "        self.item.append(fruit)\n",
    "        \n",
    "    def remove_item(self, fruit):\n",
    "        self.item.remove(fruit)\n",
    "\n",
    "    def display_list(self):\n",
    "        return self.item\n",
    "\n",
    "\n",
    "my_list = GroceryList()\n",
    "my_list.add_item(\"Apples\")\n",
    "my_list.remove_item('Apples')\n",
    "my_list.display_list()"
   ]
  },
  {
   "cell_type": "markdown",
   "id": "193bf04b",
   "metadata": {},
   "source": [
    "## Question 6\n",
    "## **Task:** Create a class `Rectangle` with methods to calculate the area and perimeter of a rectangle.\n",
    "## **Hint:** Use the formula `area = width * height` for area and `perimeter = 2 * (width + height)` for perimeter."
   ]
  },
  {
   "cell_type": "code",
   "execution_count": 7,
   "id": "3ebd9e73",
   "metadata": {},
   "outputs": [
    {
     "name": "stdout",
     "output_type": "stream",
     "text": [
      "50\n",
      "30\n"
     ]
    }
   ],
   "source": [
    "class Rectangle:\n",
    "    def __init__(self, width, height):\n",
    "        self.width = width\n",
    "        self.height = height\n",
    "\n",
    "    def area(self):\n",
    "        return self.width * self.height\n",
    "\n",
    "    def perimeter(self):\n",
    "        return 2 * (self.width + self.height)\n",
    "\n",
    "\n",
    "rect = Rectangle(5, 10)\n",
    "print(rect.area())  # Output: 50\n",
    "print(rect.perimeter())  # Output: 30\n"
   ]
  },
  {
   "cell_type": "markdown",
   "id": "e694e1c2",
   "metadata": {},
   "source": [
    "## Question 7\n",
    "## **Task:** Implement a class `Student` with methods to add grades, calculate the average grade, and determine the highest grade.\n",
    "## **Hint:** Use a list to store grades and methods to add grades and calculate the required values."
   ]
  },
  {
   "cell_type": "code",
   "execution_count": 8,
   "id": "c44cc589",
   "metadata": {},
   "outputs": [
    {
     "name": "stdout",
     "output_type": "stream",
     "text": [
      "85.0\n",
      "90\n"
     ]
    }
   ],
   "source": [
    "class Student:\n",
    "    def __init__(self, name):\n",
    "        self.name = name\n",
    "        self.grade = []\n",
    "\n",
    "    def add_grade(self, number):\n",
    "        self.grade.append(number)\n",
    "\n",
    "    def average_grade(self):\n",
    "        return sum(self.grade) / len(self.grade)\n",
    "\n",
    "    def highest_grade(self):\n",
    "        return max(self.grade)\n",
    "    \n",
    "    \n",
    "student = Student('John Doe')\n",
    "student.add_grade(90)\n",
    "student.add_grade(80)\n",
    "print(student.average_grade())  # Output: 85.0\n",
    "print(student.highest_grade())  # Output: 90"
   ]
  },
  {
   "cell_type": "markdown",
   "id": "cecad86f",
   "metadata": {},
   "source": [
    "## Question 8\n",
    "## **Task:** Write a class `ContactBook` that allows you to add, remove, and search for contacts by name."
   ]
  },
  {
   "cell_type": "code",
   "execution_count": 10,
   "id": "9ba7d72a",
   "metadata": {},
   "outputs": [
    {
     "name": "stdout",
     "output_type": "stream",
     "text": [
      "Contact not found\n"
     ]
    }
   ],
   "source": [
    "class ContactBook:\n",
    "    def __init__(self):\n",
    "        self.contacts = {}\n",
    "\n",
    "    def add_contact(self, name, number):\n",
    "        self.contacts[name] = number\n",
    "\n",
    "    def remove_contact(self, name):\n",
    "        if name in self.contacts:\n",
    "            del self.contacts[name]\n",
    "\n",
    "    def search_contact(self, name):\n",
    "        if name in self.contacts:\n",
    "            return self.contacts[name]\n",
    "        else:\n",
    "            return \"Contact not found\"\n",
    "\n",
    "        \n",
    "# Test the class\n",
    "book = ContactBook()\n",
    "book.add_contact('Alice', '123-456-7890')\n",
    "book.remove_contact('Alice')\n",
    "print(book.search_contact('Alice'))  # Output: Contact not found\n"
   ]
  },
  {
   "cell_type": "markdown",
   "id": "cc541a9d",
   "metadata": {},
   "source": [
    "## Question 9\n",
    "## **Task:** Implement a class `Library` with methods to add books, remove books, and display the list of books.\n",
    "## **Hint:** Use a list to store book titles and methods to modify and display the list."
   ]
  },
  {
   "cell_type": "code",
   "execution_count": 11,
   "id": "b2c67ae8",
   "metadata": {},
   "outputs": [
    {
     "name": "stdout",
     "output_type": "stream",
     "text": [
      "[]\n"
     ]
    }
   ],
   "source": [
    "class Library:\n",
    "    def __init__(self):\n",
    "        self.books = []\n",
    "\n",
    "    def add_book(self, name):\n",
    "        self.books.append(name)\n",
    "\n",
    "    def remove_book(self, name):\n",
    "        self.books.remove(name)\n",
    "\n",
    "    def display_books(self):\n",
    "        return self.books\n",
    "    \n",
    "    \n",
    "library = Library()\n",
    "library.add_book('1984')\n",
    "library.remove_book('1984')\n",
    "print(library.display_books())  # Output: []\n"
   ]
  },
  {
   "cell_type": "markdown",
   "id": "dbf4b2b0",
   "metadata": {},
   "source": [
    "## Question 10\n",
    "## **Task:** Create a class `Employee` with methods to set and get the employee's name, age, and salary. Also, implement a method to give a raise.\n",
    "## **Hint:** Use instance variables to store employee details and methods to update and retrieve them."
   ]
  },
  {
   "cell_type": "code",
   "execution_count": 12,
   "id": "6782a067",
   "metadata": {},
   "outputs": [
    {
     "name": "stdout",
     "output_type": "stream",
     "text": [
      "55000\n"
     ]
    }
   ],
   "source": [
    "class Employee:\n",
    "    def __init__(self, name, age, salary):\n",
    "        self.name = name\n",
    "        self.age = age\n",
    "        self.salary = salary\n",
    "\n",
    "    def employee_name(self):\n",
    "        return self.name\n",
    "    \n",
    "    def employee_age(self):\n",
    "        return self.age\n",
    "\n",
    "    def give_raise(self, amount):\n",
    "        self.salary += amount\n",
    "\n",
    "    def get_salary(self):\n",
    "        return self.salary\n",
    "    \n",
    "    \n",
    "emp = Employee('Jane Doe', 30, 50000)\n",
    "emp.give_raise(5000)\n",
    "print(emp.get_salary())  # Output: 55000\n"
   ]
  },
  {
   "cell_type": "code",
   "execution_count": null,
   "id": "8dfcfc48",
   "metadata": {},
   "outputs": [],
   "source": []
  }
 ],
 "metadata": {
  "kernelspec": {
   "display_name": "Python 3 (ipykernel)",
   "language": "python",
   "name": "python3"
  },
  "language_info": {
   "codemirror_mode": {
    "name": "ipython",
    "version": 3
   },
   "file_extension": ".py",
   "mimetype": "text/x-python",
   "name": "python",
   "nbconvert_exporter": "python",
   "pygments_lexer": "ipython3",
   "version": "3.11.5"
  }
 },
 "nbformat": 4,
 "nbformat_minor": 5
}
