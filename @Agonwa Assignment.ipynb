{
 "cells": [
  {
   "cell_type": "markdown",
   "id": "5831dbab",
   "metadata": {},
   "source": [
    "# ASSIGNMENT SOLUTIONS\n"
   ]
  },
  {
   "cell_type": "markdown",
   "id": "1403e809",
   "metadata": {},
   "source": [
    "## Number 1 "
   ]
  },
  {
   "cell_type": "markdown",
   "id": "d32ae20d",
   "metadata": {},
   "source": [
    "### First Solution"
   ]
  },
  {
   "cell_type": "code",
   "execution_count": 1,
   "id": "a97160c1",
   "metadata": {},
   "outputs": [
    {
     "name": "stdout",
     "output_type": "stream",
     "text": [
      "[20, 24, 28, 32, 36, 40, 44, 48, 52, 56, 60, 64, 68, 72, 76, 80, 84, 88, 92, 96, 100, 104, 108, 112, 116, 120, 124, 128, 132, 136, 140]\n"
     ]
    }
   ],
   "source": [
    "tree_list = []\n",
    "for item in range(20, 141, 4):\n",
    "    tree_list.append(item)\n",
    "print(tree_list)\n"
   ]
  },
  {
   "cell_type": "markdown",
   "id": "2d08bdcb",
   "metadata": {},
   "source": [
    "### Second Solution"
   ]
  },
  {
   "cell_type": "code",
   "execution_count": 2,
   "id": "af8ecbb7",
   "metadata": {},
   "outputs": [
    {
     "name": "stdout",
     "output_type": "stream",
     "text": [
      "[20, 24, 28, 32, 36, 40, 44, 48, 52, 56, 60, 64, 68, 72, 76, 80, 84, 88, 92, 96, 100, 104, 108, 112, 116, 120, 124, 128, 132, 136, 140]\n"
     ]
    }
   ],
   "source": [
    "tree_list = range(20, 141, 4)\n",
    "tree_list = list(tree_list)\n",
    "'''\n",
    "We can also make this solution shorter by calling tree_list = list(range(20, 141, 4))\n",
    "\n",
    "'''\n",
    "print(tree_list)"
   ]
  },
  {
   "cell_type": "markdown",
   "id": "a4935b03",
   "metadata": {},
   "source": [
    "# Number 2"
   ]
  },
  {
   "cell_type": "code",
   "execution_count": 4,
   "id": "41aad934",
   "metadata": {},
   "outputs": [
    {
     "name": "stdout",
     "output_type": "stream",
     "text": [
      "[20, 24, 28, 32, 36, 40, 44, 48, 52, 56, 60, 64, 68, 72, 76, 80, 84, 88, 92, 96, 100, 104, 108, 112, 116, 120, 124, 128, 132, 136, 140, 400]\n"
     ]
    }
   ],
   "source": [
    "tree_list.append(400)\n",
    "print(tree_list)"
   ]
  },
  {
   "cell_type": "markdown",
   "id": "a066ef7f",
   "metadata": {},
   "source": [
    "# Number 3"
   ]
  },
  {
   "cell_type": "code",
   "execution_count": 1,
   "id": "ffd6398c",
   "metadata": {},
   "outputs": [],
   "source": [
    "tree = {\n",
    "    'tree_type': 'pepper_bark tree',\n",
    "    'age': '15',\n",
    "    'family': 'Canellaceae'\n",
    "}\n"
   ]
  },
  {
   "cell_type": "code",
   "execution_count": 2,
   "id": "dc2b51e4",
   "metadata": {},
   "outputs": [
    {
     "data": {
      "text/plain": [
       "{'tree_type': 'pepper_bark tree', 'age': '15', 'family': 'Canellaceae'}"
      ]
     },
     "execution_count": 2,
     "metadata": {},
     "output_type": "execute_result"
    }
   ],
   "source": [
    "tree"
   ]
  },
  {
   "cell_type": "markdown",
   "id": "6e6cb281",
   "metadata": {},
   "source": [
    "# Number 4"
   ]
  },
  {
   "cell_type": "code",
   "execution_count": 3,
   "id": "883bc892",
   "metadata": {},
   "outputs": [
    {
     "name": "stdout",
     "output_type": "stream",
     "text": [
      "Student name: Akin\n",
      "Student number: 77\n",
      "Akin is a Grade B student \n"
     ]
    }
   ],
   "source": [
    "student_name = input(\"Student name: \")\n",
    "student_number = int(input(\"Student number: \"))\n",
    "\n",
    "if student_number < 50:\n",
    "    print(f\"{student_name} is a Grade F student \")\n",
    "elif 50 <= student_number < 65:\n",
    "    print(f\"{student_name} is a Grade C student \")\n",
    "elif 65 <= student_number < 80:\n",
    "    print(f\"{student_name} is a Grade B student \")\n",
    "else:\n",
    "    print(f\"{student_name} is a Grade A student \")\n"
   ]
  },
  {
   "cell_type": "markdown",
   "id": "8db1b3bb",
   "metadata": {},
   "source": [
    "# Number 4 Modified Aspect"
   ]
  },
  {
   "cell_type": "code",
   "execution_count": 4,
   "id": "af41d6d1",
   "metadata": {},
   "outputs": [
    {
     "name": "stdout",
     "output_type": "stream",
     "text": [
      "Student name: Akin2\n",
      "Please Use only Alphabets \n",
      "Student name: akin\n",
      "Please start the name with a Capital Letter \n",
      "Student name: Akin\n",
      "Student number: 2w3e\n",
      "Student Number must be only Numbers \n",
      "Student number: 77\n",
      "Akin is a Grade B student \n"
     ]
    }
   ],
   "source": [
    "while True:\n",
    "    student_name = input(\"Student name: \")\n",
    "    if student_name.isalpha():\n",
    "        if student_name[0].isupper():\n",
    "            break\n",
    "        else:\n",
    "            print(\"Please start the name with a Capital Letter \")\n",
    "    else:\n",
    "        print(\"Please Use only Alphabets \")\n",
    "\n",
    "while True:\n",
    "    student_number = input(\"Student number: \")\n",
    "    if student_number.isdigit():\n",
    "        student_number = int(student_number)\n",
    "        break\n",
    "    else:\n",
    "        print(\"Student Number must be only Numbers \")\n",
    "\n",
    "\n",
    "if student_number < 50:\n",
    "    print(f\"{student_name} is a Grade F student \")\n",
    "\n",
    "elif 50 <= student_number < 65:\n",
    "    print(f\"{student_name} is a Grade C student \")\n",
    "\n",
    "elif 65 <= student_number < 80:\n",
    "    print(f\"{student_name} is a Grade B student \")\n",
    "\n",
    "else:\n",
    "    print(f\"{student_name} is a Grade A student \")"
   ]
  },
  {
   "cell_type": "markdown",
   "id": "0b7bb300",
   "metadata": {},
   "source": [
    "# Number 5"
   ]
  },
  {
   "cell_type": "code",
   "execution_count": 5,
   "id": "88954140",
   "metadata": {},
   "outputs": [
    {
     "name": "stdout",
     "output_type": "stream",
     "text": [
      "Eco-friendly\n"
     ]
    }
   ],
   "source": [
    "solar = True\n",
    "if not solar:\n",
    "    print(\"Needs Improvement\")\n",
    "else:\n",
    "    print(\"Eco-friendly\")"
   ]
  },
  {
   "cell_type": "markdown",
   "id": "ade0348b",
   "metadata": {},
   "source": [
    "# Number 6"
   ]
  },
  {
   "cell_type": "code",
   "execution_count": 7,
   "id": "ea775dac",
   "metadata": {},
   "outputs": [
    {
     "name": "stdout",
     "output_type": "stream",
     "text": [
      "Mathematics\n",
      "English\n",
      "Chemistry\n",
      "Physics\n",
      "Biology\n",
      "Economics\n",
      "Koala\n"
     ]
    }
   ],
   "source": [
    "subjects = ['Mathematics', 'English', 'Chemistry', 'Physics', 'Biology', 'Economics', '', 'Koala']\n",
    "\n",
    "for subject in subjects:\n",
    "    if not subject:\n",
    "        continue\n",
    "    print(subject)"
   ]
  },
  {
   "cell_type": "markdown",
   "id": "99036b55",
   "metadata": {},
   "source": [
    "# Solution 2"
   ]
  },
  {
   "cell_type": "code",
   "execution_count": 8,
   "id": "f22fa5bd",
   "metadata": {},
   "outputs": [
    {
     "name": "stdout",
     "output_type": "stream",
     "text": [
      "Mathematics\n",
      "English\n",
      "Chemistry\n",
      "Physics\n",
      "Biology\n",
      "Economics\n",
      "Koala\n"
     ]
    }
   ],
   "source": [
    "subjects = ['Mathematics', 'English', 'Chemistry', 'Physics', 'Biology', 'Economics', '', 'Koala']\n",
    "\n",
    "for subject in subjects:\n",
    "    if subject == \"\":\n",
    "        continue\n",
    "    print(subject)"
   ]
  },
  {
   "cell_type": "markdown",
   "id": "5ab10c59",
   "metadata": {},
   "source": [
    "# Number 7"
   ]
  },
  {
   "cell_type": "code",
   "execution_count": 1,
   "id": "937548ab",
   "metadata": {},
   "outputs": [
    {
     "name": "stdout",
     "output_type": "stream",
     "text": [
      "Tiger\n",
      "Cheetah\n",
      "Antelope\n",
      "Lion\n",
      "Wolves\n",
      "Leopard\n",
      "Fox\n",
      "Bear\n"
     ]
    }
   ],
   "source": [
    "animals = [\"Tiger\", \"Cheetah\", \"Antelope\", \"Lion\", \"Wolves\", \"Panda\", \"Leopard\", \"Fox\", \"Bear\"]\n",
    "for animal in animals:\n",
    "    if animal == \"Panda\":\n",
    "        continue\n",
    "    print(animal)"
   ]
  },
  {
   "cell_type": "markdown",
   "id": "96798c99",
   "metadata": {},
   "source": [
    "# Number 8"
   ]
  },
  {
   "cell_type": "code",
   "execution_count": 9,
   "id": "eaad5de0",
   "metadata": {},
   "outputs": [
    {
     "name": "stdout",
     "output_type": "stream",
     "text": [
      "Number of endangered marine species: 5\n"
     ]
    }
   ],
   "source": [
    "endangered_marine_species = ['Hawksbill Turtle', 'Vaquita', 'Blue Whale', 'Staghorn Coral', 'Green Turtle']\n",
    "\n",
    "endangered_count = 0\n",
    "\n",
    "for species in endangered_marine_species:\n",
    "    endangered_count += 1\n",
    "    \n",
    "print(f\"Number of endangered marine species: {endangered_count}\")"
   ]
  },
  {
   "cell_type": "markdown",
   "id": "7ccd7c16",
   "metadata": {},
   "source": [
    "# Number 9 "
   ]
  },
  {
   "cell_type": "code",
   "execution_count": 10,
   "id": "d36f287e",
   "metadata": {},
   "outputs": [
    {
     "name": "stdout",
     "output_type": "stream",
     "text": [
      "Years to reach target savings: 18\n"
     ]
    }
   ],
   "source": [
    "current_savings = 150  # initial savings in dollars\n",
    "target_savings = 500\n",
    "years = 0\n",
    "growth_rate = 1.07  # 7% annual growth due to interest\n",
    "\n",
    "while current_savings < target_savings:\n",
    "    current_savings *= growth_rate\n",
    "    years += 1\n",
    "print(f\"Years to reach target savings: {years}\")\n"
   ]
  },
  {
   "cell_type": "markdown",
   "id": "27d331de",
   "metadata": {},
   "source": [
    "# Number 10"
   ]
  },
  {
   "cell_type": "code",
   "execution_count": 17,
   "id": "95474cc4",
   "metadata": {},
   "outputs": [],
   "source": [
    "def dollars_to_euros(a: float) -> float:\n",
    "    \"\"\" \n",
    "    (a) signifies the amount in dollars that we want to convert to euro, while float indicates that we can insert\n",
    "    either an integer or a decimal number.\n",
    "    Also, the function uses a defualt 1 dollar = 0.85 euros\n",
    "    \n",
    "    \"\"\"\n",
    "    return a * 0.85"
   ]
  },
  {
   "cell_type": "code",
   "execution_count": 18,
   "id": "ad9135c0",
   "metadata": {},
   "outputs": [
    {
     "name": "stdout",
     "output_type": "stream",
     "text": [
      "The equivalent amount in euros is 4.25\n"
     ]
    }
   ],
   "source": [
    "euro = dollars_to_euros(5)\n",
    "print(f\"The equivalent amount in euros is {euro}\")"
   ]
  },
  {
   "cell_type": "code",
   "execution_count": null,
   "id": "e130fe92",
   "metadata": {},
   "outputs": [],
   "source": []
  }
 ],
 "metadata": {
  "kernelspec": {
   "display_name": "Python 3 (ipykernel)",
   "language": "python",
   "name": "python3"
  },
  "language_info": {
   "codemirror_mode": {
    "name": "ipython",
    "version": 3
   },
   "file_extension": ".py",
   "mimetype": "text/x-python",
   "name": "python",
   "nbconvert_exporter": "python",
   "pygments_lexer": "ipython3",
   "version": "3.11.5"
  }
 },
 "nbformat": 4,
 "nbformat_minor": 5
}
